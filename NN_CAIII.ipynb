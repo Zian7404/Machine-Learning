{
  "nbformat": 4,
  "nbformat_minor": 0,
  "metadata": {
    "colab": {
      "provenance": [],
      "include_colab_link": true
    },
    "kernelspec": {
      "name": "python3",
      "display_name": "Python 3"
    },
    "language_info": {
      "name": "python"
    }
  },
  "cells": [
    {
      "cell_type": "markdown",
      "metadata": {
        "id": "view-in-github",
        "colab_type": "text"
      },
      "source": [
        "<a href=\"https://colab.research.google.com/github/Zian7404/Machine-Learning/blob/main/NN_CAIII.ipynb\" target=\"_parent\"><img src=\"https://colab.research.google.com/assets/colab-badge.svg\" alt=\"Open In Colab\"/></a>"
      ]
    },
    {
      "cell_type": "code",
      "source": [
        "# Python program to compute Hessian in PyTorch\n",
        "# importing libraries\n",
        "import torch\n",
        "from torch.autograd.functional import hessian"
      ],
      "metadata": {
        "id": "yTyR49e7bvHb"
      },
      "execution_count": null,
      "outputs": []
    },
    {
      "cell_type": "markdown",
      "source": [
        "Equation: x4+y4-4xy"
      ],
      "metadata": {
        "id": "Mvet4N1ZQOGy"
      }
    },
    {
      "cell_type": "code",
      "source": [
        "# defining a function\n",
        "def func(x, y):\n",
        "\treturn (x**4+y**4-4*x*y)\n",
        "\n",
        "def fxx(x, y):\n",
        "  return (12*x**2)"
      ],
      "metadata": {
        "id": "2X-UT2-lbf78"
      },
      "execution_count": null,
      "outputs": []
    },
    {
      "cell_type": "code",
      "execution_count": null,
      "metadata": {
        "colab": {
          "base_uri": "https://localhost:8080/"
        },
        "id": "CJ2hWvFNY7m1",
        "outputId": "d8328f37-0f1b-4567-8f37-dfdb400c1096"
      },
      "outputs": [
        {
          "output_type": "stream",
          "name": "stdout",
          "text": [
            "inputs:\n",
            " (tensor([0.]), tensor([0.]))\n",
            "Hessian:\n",
            " ((tensor([[0.]]), tensor([[-4.]])), (tensor([[-4.]]), tensor([[0.]])))\n"
          ]
        }
      ],
      "source": [
        "input_x = torch.tensor([0.])\n",
        "input_y = torch.tensor([0.])\n",
        "inputs = (input_x, input_y)\n",
        "print(\"inputs:\\n\", inputs)\n",
        "\n",
        "# compute the hessian\n",
        "hf = hessian(func, inputs)\n",
        "\n",
        "# printing the above computed hessian\n",
        "print(\"Hessian:\\n\", hf)"
      ]
    },
    {
      "cell_type": "markdown",
      "source": [
        "Critical Point 1"
      ],
      "metadata": {
        "id": "k9WTIV0OQHAW"
      }
    },
    {
      "cell_type": "code",
      "source": [
        "f_xx= fxx(0,0)\n",
        "Df= (hf[0][0] * hf[1][1])-(hf[0][1] * hf[1][0])\n",
        "Df=int(Df.item())\n",
        "print(f_xx,Df)\n",
        "\n",
        "if(Df>0):\n",
        "  if(f_xx>0):\n",
        "    print(\"Local Minima\")\n",
        "  else:\n",
        "    print(\"Local Maxima\")\n",
        "elif(Df<0):\n",
        "  print(\"Saddle Point\")\n",
        "else:\n",
        "  print(\"Cannot be determined. Further tests required\")"
      ],
      "metadata": {
        "colab": {
          "base_uri": "https://localhost:8080/"
        },
        "id": "CRZKiYhlbZbL",
        "outputId": "fa7aed1b-b1ac-472c-9c03-2c1e53bba269"
      },
      "execution_count": null,
      "outputs": [
        {
          "output_type": "stream",
          "name": "stdout",
          "text": [
            "0 -16\n",
            "Saddle Point\n"
          ]
        }
      ]
    },
    {
      "cell_type": "markdown",
      "source": [
        "Critical Point 2"
      ],
      "metadata": {
        "id": "0vfP8QeqQJJQ"
      }
    },
    {
      "cell_type": "code",
      "source": [
        "input_x = torch.tensor([1.])\n",
        "input_y = torch.tensor([1.])\n",
        "inputs = (input_x, input_y)\n",
        "print(\"inputs:\\n\", inputs)\n",
        "\n",
        "# compute the hessian\n",
        "hf = hessian(func, inputs)\n",
        "\n",
        "# printing the above computed hessian\n",
        "print(\"Hessian:\\n\", hf)"
      ],
      "metadata": {
        "colab": {
          "base_uri": "https://localhost:8080/"
        },
        "id": "SumG27h0aEJg",
        "outputId": "634d8a60-cf30-4f93-da16-71b1e7d02160"
      },
      "execution_count": null,
      "outputs": [
        {
          "output_type": "stream",
          "name": "stdout",
          "text": [
            "inputs:\n",
            " (tensor([1.]), tensor([1.]))\n",
            "Hessian:\n",
            " ((tensor([[12.]]), tensor([[-4.]])), (tensor([[-4.]]), tensor([[12.]])))\n"
          ]
        }
      ]
    },
    {
      "cell_type": "code",
      "source": [
        "f_xx= fxx(1,1)\n",
        "Df= (hf[0][0] * hf[1][1])-(hf[0][1] * hf[1][0])\n",
        "Df=int(Df.item())\n",
        "print(f_xx,Df)\n",
        "\n",
        "if(Df>0):\n",
        "  if(f_xx>0):\n",
        "    print(\"Local Minima\")\n",
        "  else:\n",
        "    print(\"Local Maxima\")\n",
        "elif(Df<0):\n",
        "  print(\"Saddle Point\")\n",
        "else:\n",
        "  print(\"Cannot be determined. Further tests required\")"
      ],
      "metadata": {
        "colab": {
          "base_uri": "https://localhost:8080/"
        },
        "id": "wbjssikqele6",
        "outputId": "9684a7fe-823d-49fb-dfb8-422012ec750d"
      },
      "execution_count": null,
      "outputs": [
        {
          "output_type": "stream",
          "name": "stdout",
          "text": [
            "12 128\n",
            "Local Minima\n"
          ]
        }
      ]
    },
    {
      "cell_type": "markdown",
      "source": [
        "Critical Point 3"
      ],
      "metadata": {
        "id": "eIxIjz_TQL8d"
      }
    },
    {
      "cell_type": "code",
      "source": [
        "input_x = torch.tensor([-1.])\n",
        "input_y = torch.tensor([-1.])\n",
        "inputs = (input_x, input_y)\n",
        "print(\"inputs:\\n\", inputs)\n",
        "\n",
        "# compute the hessian\n",
        "hf = hessian(func, inputs)\n",
        "\n",
        "# printing the above computed hessian\n",
        "print(\"Hessian:\\n\", hf)"
      ],
      "metadata": {
        "colab": {
          "base_uri": "https://localhost:8080/"
        },
        "id": "_gfP5ZdAaQUj",
        "outputId": "896259d9-e495-4e92-e335-c4e6d8e7b713"
      },
      "execution_count": null,
      "outputs": [
        {
          "output_type": "stream",
          "name": "stdout",
          "text": [
            "inputs:\n",
            " (tensor([-1.]), tensor([-1.]))\n",
            "Hessian:\n",
            " ((tensor([[12.]]), tensor([[-4.]])), (tensor([[-4.]]), tensor([[12.]])))\n"
          ]
        }
      ]
    },
    {
      "cell_type": "code",
      "source": [
        "f_xx= fxx(-1,-1)\n",
        "Df= (hf[0][0] * hf[1][1])-(hf[0][1] * hf[1][0])\n",
        "Df=int(Df.item())\n",
        "print(f_xx,Df)\n",
        "\n",
        "if(Df>0):\n",
        "  if(f_xx>0):\n",
        "    print(\"Local Minima\")\n",
        "  else:\n",
        "    print(\"Local Maxima\")\n",
        "elif(Df<0):\n",
        "  print(\"Saddle Point\")\n",
        "else:\n",
        "  print(\"Cannot be determined. Further tests required\")"
      ],
      "metadata": {
        "colab": {
          "base_uri": "https://localhost:8080/"
        },
        "id": "29xy-AkSetQG",
        "outputId": "1965e22a-ffd9-4e4e-f1ee-b05d3f507af6"
      },
      "execution_count": null,
      "outputs": [
        {
          "output_type": "stream",
          "name": "stdout",
          "text": [
            "12 128\n",
            "Local Minima\n"
          ]
        }
      ]
    }
  ]
}